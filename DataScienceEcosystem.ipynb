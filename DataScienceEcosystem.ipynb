{
 "cells": [
  {
   "cell_type": "markdown",
   "id": "37f399d5-f643-4529-8ba1-c23d99538c64",
   "metadata": {},
   "source": [
    "# Data Science Tools and Ecosystem"
   ]
  },
  {
   "cell_type": "markdown",
   "id": "52d59091-34ba-4181-8e10-a2374ed0ab70",
   "metadata": {},
   "source": [
    "In this notebook, Data Science Tools and Ecosystem are summarized.\n"
   ]
  },
  {
   "cell_type": "markdown",
   "id": "d536391b-5907-4d52-bd8b-19437f1e68eb",
   "metadata": {},
   "source": [
    "### Popular Data Science Languages\r\n",
    "\r\n",
    "Some of the popular languages that Data Scientists use are:1.\n",
    "1. Python\r\n",
    "2. R\r\n",
    "3. SQL\r\n",
    "4. Julia\r\n",
    "5. Scala"
   ]
  },
  {
   "cell_type": "markdown",
   "id": "097ee237-a5cb-450b-847d-c03bd0d991e6",
   "metadata": {},
   "source": [
    "### commonly used Data Science Libraries\n",
    "\n",
    "some of them are libarries are\n",
    "1. pandas\n",
    "2. numpy\n",
    "3. Scikit-learn\n"
   ]
  },
  {
   "cell_type": "markdown",
   "id": "f921fe14-1064-464c-8c6a-91e7abcc44de",
   "metadata": {},
   "source": [
    "### Data Science Tools\n",
    "|Data science Tools|\n",
    "|------------------|\n",
    "|Rstudio    |\n",
    "|Jupiter note book|\n"
   ]
  },
  {
   "cell_type": "code",
   "execution_count": 15,
   "id": "e61fdaba-6b7a-4e2a-a450-32e5c2525b9b",
   "metadata": {},
   "outputs": [
    {
     "data": {
      "text/plain": [
       "7"
      ]
     },
     "execution_count": 15,
     "metadata": {},
     "output_type": "execute_result"
    }
   ],
   "source": [
    "3+4"
   ]
  },
  {
   "cell_type": "code",
   "execution_count": 18,
   "id": "d21c16de-ad87-405a-ad40-abdf544a3375",
   "metadata": {},
   "outputs": [
    {
     "data": {
      "text/plain": [
       "3.3333333333333335"
      ]
     },
     "execution_count": 18,
     "metadata": {},
     "output_type": "execute_result"
    }
   ],
   "source": [
    "200/60"
   ]
  },
  {
   "cell_type": "markdown",
   "id": "e28b68a0-b2f8-4ce6-a8e5-0e4b8674b2cc",
   "metadata": {},
   "source": [
    "**Objectives:**\r\n",
    "- List popular languages for Data Science.\r\n",
    "- List commonly used libraries for Data Science.\r\n",
    "- Create tables to summarize Data Science tools.\r\n",
    "- Demonstrate basic arithmetic operations in Python.\r\n",
    "- Convert minutes to hours using Python."
   ]
  },
  {
   "cell_type": "markdown",
   "id": "04aa3d8a-97d6-41e8-8139-3cb45577f8c6",
   "metadata": {},
   "source": [
    "## Author Details\n",
    "Hemanth Anumakonda\n",
    "#### i have taklen single screen shots for multiple exercise "
   ]
  },
  {
   "cell_type": "code",
   "execution_count": null,
   "id": "4916475d-a7fd-4d6e-94de-76b7c557a2fb",
   "metadata": {},
   "outputs": [],
   "source": []
  }
 ],
 "metadata": {
  "kernelspec": {
   "display_name": "Python 3 (ipykernel)",
   "language": "python",
   "name": "python3"
  },
  "language_info": {
   "codemirror_mode": {
    "name": "ipython",
    "version": 3
   },
   "file_extension": ".py",
   "mimetype": "text/x-python",
   "name": "python",
   "nbconvert_exporter": "python",
   "pygments_lexer": "ipython3",
   "version": "3.12.4"
  }
 },
 "nbformat": 4,
 "nbformat_minor": 5
}
